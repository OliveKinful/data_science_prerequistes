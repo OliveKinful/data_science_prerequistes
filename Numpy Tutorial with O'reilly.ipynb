{
 "cells": [
  {
   "cell_type": "code",
   "execution_count": 4,
   "id": "990a148c-fcde-4c44-b047-44c132bea44c",
   "metadata": {},
   "outputs": [],
   "source": [
    "import numpy as np"
   ]
  },
  {
   "cell_type": "code",
   "execution_count": 5,
   "id": "15f171b0-9a30-4844-a0db-7a67c8e97330",
   "metadata": {},
   "outputs": [],
   "source": [
    "L = [1, 2, 3]"
   ]
  },
  {
   "cell_type": "code",
   "execution_count": 6,
   "id": "91f0d7a7-3094-4d04-81f4-20265f446a95",
   "metadata": {},
   "outputs": [],
   "source": [
    "A = np.array([1, 2, 3])"
   ]
  },
  {
   "cell_type": "code",
   "execution_count": 7,
   "id": "c418216c-e413-4c57-afec-146e3bf80561",
   "metadata": {},
   "outputs": [
    {
     "name": "stdout",
     "output_type": "stream",
     "text": [
      "1\n",
      "2\n",
      "3\n"
     ]
    }
   ],
   "source": [
    "for elements in L:\n",
    "    print(elements)"
   ]
  },
  {
   "cell_type": "code",
   "execution_count": 8,
   "id": "b162a6f1-7c72-44ed-9eac-ad4a07a811ac",
   "metadata": {},
   "outputs": [
    {
     "name": "stdout",
     "output_type": "stream",
     "text": [
      "1\n",
      "2\n",
      "3\n"
     ]
    }
   ],
   "source": [
    "for elements in A:\n",
    "    print(elements)"
   ]
  },
  {
   "cell_type": "code",
   "execution_count": 9,
   "id": "6c005b48-fe9b-48c6-9df2-a648bab5b25b",
   "metadata": {},
   "outputs": [],
   "source": [
    "L.append(4)"
   ]
  },
  {
   "cell_type": "code",
   "execution_count": 10,
   "id": "bbce4a2d-5425-48ef-a09e-1cdc80aac9fb",
   "metadata": {},
   "outputs": [
    {
     "data": {
      "text/plain": [
       "[1, 2, 3, 4]"
      ]
     },
     "execution_count": 10,
     "metadata": {},
     "output_type": "execute_result"
    }
   ],
   "source": [
    "L"
   ]
  },
  {
   "cell_type": "code",
   "execution_count": 12,
   "id": "9e13a9f2-39aa-48ab-a432-78da5b0d5c21",
   "metadata": {},
   "outputs": [
    {
     "data": {
      "text/plain": [
       "array([2, 4, 6])"
      ]
     },
     "execution_count": 12,
     "metadata": {},
     "output_type": "execute_result"
    }
   ],
   "source": [
    "2 * A"
   ]
  },
  {
   "cell_type": "code",
   "execution_count": 13,
   "id": "f22326d8-71bc-4549-8f2b-5871670abc58",
   "metadata": {},
   "outputs": [],
   "source": [
    "L2 = []\n",
    "for elements in L:\n",
    "    L2.append(elements + 3)"
   ]
  },
  {
   "cell_type": "code",
   "execution_count": 15,
   "id": "14acc62f-19a8-4258-967c-23ae24f4b84d",
   "metadata": {},
   "outputs": [
    {
     "data": {
      "text/plain": [
       "[4, 5, 6, 7]"
      ]
     },
     "execution_count": 15,
     "metadata": {},
     "output_type": "execute_result"
    }
   ],
   "source": [
    "L2"
   ]
  },
  {
   "cell_type": "code",
   "execution_count": 17,
   "id": "07ce887c-bc4d-4bac-a382-18970b87abde",
   "metadata": {},
   "outputs": [
    {
     "data": {
      "text/plain": [
       "[4, 5, 6, 7]"
      ]
     },
     "execution_count": 17,
     "metadata": {},
     "output_type": "execute_result"
    }
   ],
   "source": [
    "L2 = [elements + 3 for elements in L]\n",
    "L2"
   ]
  },
  {
   "cell_type": "code",
   "execution_count": 18,
   "id": "0a0d8a69-454a-4714-9609-7b582fa6161a",
   "metadata": {},
   "outputs": [],
   "source": [
    "a = np.array([1,2])\n",
    "b = np.array([3,4])"
   ]
  },
  {
   "cell_type": "code",
   "execution_count": 19,
   "id": "799a54c4-2377-4106-ae53-9f0b59fea88b",
   "metadata": {},
   "outputs": [
    {
     "data": {
      "text/plain": [
       "11"
      ]
     },
     "execution_count": 19,
     "metadata": {},
     "output_type": "execute_result"
    }
   ],
   "source": [
    "dot = 0\n",
    "for e, f in zip(a, b):\n",
    "    dot += e * f\n",
    "dot"
   ]
  },
  {
   "cell_type": "code",
   "execution_count": 20,
   "id": "69af3e41-6d50-40b5-805a-1ced06b5420b",
   "metadata": {},
   "outputs": [
    {
     "data": {
      "text/plain": [
       "11"
      ]
     },
     "execution_count": 20,
     "metadata": {},
     "output_type": "execute_result"
    }
   ],
   "source": [
    "dot = 0\n",
    "for i in range(len(a)):\n",
    "    dot += a[i] * b[i]\n",
    "dot"
   ]
  },
  {
   "cell_type": "code",
   "execution_count": 21,
   "id": "54347e58-b960-429b-a9fd-b939d536cc75",
   "metadata": {},
   "outputs": [
    {
     "data": {
      "text/plain": [
       "11"
      ]
     },
     "execution_count": 21,
     "metadata": {},
     "output_type": "execute_result"
    }
   ],
   "source": [
    "np.sum(a * b)"
   ]
  },
  {
   "cell_type": "code",
   "execution_count": 22,
   "id": "5e43c22d-5031-4497-9317-ccda9eedf78c",
   "metadata": {},
   "outputs": [
    {
     "data": {
      "text/plain": [
       "array([3, 8])"
      ]
     },
     "execution_count": 22,
     "metadata": {},
     "output_type": "execute_result"
    }
   ],
   "source": [
    "a * b "
   ]
  },
  {
   "cell_type": "code",
   "execution_count": 23,
   "id": "45cba2a3-2a0a-463d-972f-cf182e3892b6",
   "metadata": {},
   "outputs": [
    {
     "data": {
      "text/plain": [
       "11"
      ]
     },
     "execution_count": 23,
     "metadata": {},
     "output_type": "execute_result"
    }
   ],
   "source": [
    "(a * b).sum()"
   ]
  },
  {
   "cell_type": "code",
   "execution_count": 24,
   "id": "248f57df-604d-459f-ba8b-55702b15c9c5",
   "metadata": {},
   "outputs": [
    {
     "data": {
      "text/plain": [
       "11"
      ]
     },
     "execution_count": 24,
     "metadata": {},
     "output_type": "execute_result"
    }
   ],
   "source": [
    "np.dot(a, b)"
   ]
  },
  {
   "cell_type": "code",
   "execution_count": 25,
   "id": "098b96a8-c97a-4765-b30c-42331b974091",
   "metadata": {},
   "outputs": [
    {
     "data": {
      "text/plain": [
       "11"
      ]
     },
     "execution_count": 25,
     "metadata": {},
     "output_type": "execute_result"
    }
   ],
   "source": [
    "a.dot(b)"
   ]
  },
  {
   "cell_type": "code",
   "execution_count": 26,
   "id": "229faa82-557c-4dca-9975-f68793ef9da4",
   "metadata": {},
   "outputs": [
    {
     "data": {
      "text/plain": [
       "11"
      ]
     },
     "execution_count": 26,
     "metadata": {},
     "output_type": "execute_result"
    }
   ],
   "source": [
    "a @ b\n"
   ]
  },
  {
   "cell_type": "markdown",
   "id": "2c2538d4-c2ff-4d41-8320-c417cafa2fb9",
   "metadata": {},
   "source": [
    "# Matrices"
   ]
  },
  {
   "cell_type": "code",
   "execution_count": 27,
   "id": "a903a7b6-62f4-4d50-9215-349fcd53451e",
   "metadata": {},
   "outputs": [
    {
     "data": {
      "text/plain": [
       "[[1, 2], [3, 4]]"
      ]
     },
     "execution_count": 27,
     "metadata": {},
     "output_type": "execute_result"
    }
   ],
   "source": [
    "L = [[1,2],[3,4]]\n",
    "L"
   ]
  },
  {
   "cell_type": "code",
   "execution_count": 28,
   "id": "2cd30f02-e150-4198-a9a0-017ae79a5b8b",
   "metadata": {},
   "outputs": [
    {
     "data": {
      "text/plain": [
       "[1, 2]"
      ]
     },
     "execution_count": 28,
     "metadata": {},
     "output_type": "execute_result"
    }
   ],
   "source": [
    "L[0]"
   ]
  },
  {
   "cell_type": "code",
   "execution_count": 29,
   "id": "cb045665-136e-4a7a-b372-06c94cd2752a",
   "metadata": {},
   "outputs": [
    {
     "data": {
      "text/plain": [
       "2"
      ]
     },
     "execution_count": 29,
     "metadata": {},
     "output_type": "execute_result"
    }
   ],
   "source": [
    "L[0][1]"
   ]
  },
  {
   "cell_type": "code",
   "execution_count": 30,
   "id": "c9e72cb9-6658-4113-81a8-52891d8b9ad4",
   "metadata": {},
   "outputs": [
    {
     "data": {
      "text/plain": [
       "array([[1, 2],\n",
       "       [3, 4]])"
      ]
     },
     "execution_count": 30,
     "metadata": {},
     "output_type": "execute_result"
    }
   ],
   "source": [
    "A = np.array([[1,2],[3,4]])\n",
    "A"
   ]
  },
  {
   "cell_type": "code",
   "execution_count": 31,
   "id": "baed561f-e188-4e27-9a4c-3836fbd5b7a4",
   "metadata": {},
   "outputs": [
    {
     "data": {
      "text/plain": [
       "2"
      ]
     },
     "execution_count": 31,
     "metadata": {},
     "output_type": "execute_result"
    }
   ],
   "source": [
    "A[0, 1]"
   ]
  },
  {
   "cell_type": "code",
   "execution_count": 32,
   "id": "1b35bd06-661e-47c7-83fd-a54f10889918",
   "metadata": {},
   "outputs": [
    {
     "data": {
      "text/plain": [
       "array([1, 3])"
      ]
     },
     "execution_count": 32,
     "metadata": {},
     "output_type": "execute_result"
    }
   ],
   "source": [
    "A[:,0]"
   ]
  },
  {
   "cell_type": "code",
   "execution_count": 33,
   "id": "c503710d-bf45-4ac4-8110-dc324f9564bb",
   "metadata": {},
   "outputs": [
    {
     "data": {
      "text/plain": [
       "array([2, 4])"
      ]
     },
     "execution_count": 33,
     "metadata": {},
     "output_type": "execute_result"
    }
   ],
   "source": [
    "A[:,1]"
   ]
  },
  {
   "cell_type": "code",
   "execution_count": 34,
   "id": "7b61f282-d069-4ef6-b604-7791997b3c39",
   "metadata": {},
   "outputs": [
    {
     "data": {
      "text/plain": [
       "array([[1, 3],\n",
       "       [2, 4]])"
      ]
     },
     "execution_count": 34,
     "metadata": {},
     "output_type": "execute_result"
    }
   ],
   "source": [
    "A.T"
   ]
  },
  {
   "cell_type": "code",
   "execution_count": 35,
   "id": "cc9fbac3-ce9e-4449-a829-094ab575783f",
   "metadata": {},
   "outputs": [
    {
     "data": {
      "text/plain": [
       "array([[ 2.71828183,  7.3890561 ],\n",
       "       [20.08553692, 54.59815003]])"
      ]
     },
     "execution_count": 35,
     "metadata": {},
     "output_type": "execute_result"
    }
   ],
   "source": [
    "np.exp(A)"
   ]
  },
  {
   "cell_type": "code",
   "execution_count": 36,
   "id": "1ac3c718-0d8f-4ebc-abd3-74311726b6e3",
   "metadata": {},
   "outputs": [
    {
     "data": {
      "text/plain": [
       "array([[1, 2, 3],\n",
       "       [4, 5, 6]])"
      ]
     },
     "execution_count": 36,
     "metadata": {},
     "output_type": "execute_result"
    }
   ],
   "source": [
    "B = np.array([[1,2,3],[4,5,6]])\n",
    "B"
   ]
  },
  {
   "cell_type": "code",
   "execution_count": 37,
   "id": "9ee31574-4154-423b-a205-51042438dd76",
   "metadata": {},
   "outputs": [
    {
     "data": {
      "text/plain": [
       "array([[ 9, 12, 15],\n",
       "       [19, 26, 33]])"
      ]
     },
     "execution_count": 37,
     "metadata": {},
     "output_type": "execute_result"
    }
   ],
   "source": [
    "A.dot(B)"
   ]
  },
  {
   "cell_type": "code",
   "execution_count": 38,
   "id": "8075fdb5-0ae8-43fd-ae60-a8066a646923",
   "metadata": {},
   "outputs": [
    {
     "data": {
      "text/plain": [
       "(2, 3)"
      ]
     },
     "execution_count": 38,
     "metadata": {},
     "output_type": "execute_result"
    }
   ],
   "source": [
    "B.shape\n"
   ]
  },
  {
   "cell_type": "code",
   "execution_count": 40,
   "id": "fb449674-9366-4683-8cfc-f2993d313302",
   "metadata": {},
   "outputs": [
    {
     "data": {
      "text/plain": [
       "-2.0000000000000004"
      ]
     },
     "execution_count": 40,
     "metadata": {},
     "output_type": "execute_result"
    }
   ],
   "source": [
    "np.linalg.det(A)"
   ]
  },
  {
   "cell_type": "code",
   "execution_count": 41,
   "id": "de25571e-3266-49e8-a170-ac9a010c8c54",
   "metadata": {},
   "outputs": [
    {
     "data": {
      "text/plain": [
       "array([[-2. ,  1. ],\n",
       "       [ 1.5, -0.5]])"
      ]
     },
     "execution_count": 41,
     "metadata": {},
     "output_type": "execute_result"
    }
   ],
   "source": [
    "np.linalg.inv(A)"
   ]
  },
  {
   "cell_type": "code",
   "execution_count": 42,
   "id": "4672f4f5-a0e7-4c2c-8cb9-0563dcf2b621",
   "metadata": {},
   "outputs": [
    {
     "data": {
      "text/plain": [
       "array([[ 1.00000000e+00,  4.44089210e-16],\n",
       "       [-5.55111512e-17,  1.00000000e+00]])"
      ]
     },
     "execution_count": 42,
     "metadata": {},
     "output_type": "execute_result"
    }
   ],
   "source": [
    "np.linalg.inv(A).dot(A)"
   ]
  },
  {
   "cell_type": "code",
   "execution_count": 44,
   "id": "e0387850-6612-4a31-9c61-af30ef2b6539",
   "metadata": {},
   "outputs": [
    {
     "data": {
      "text/plain": [
       "5"
      ]
     },
     "execution_count": 44,
     "metadata": {},
     "output_type": "execute_result"
    }
   ],
   "source": [
    "np.trace(A)"
   ]
  },
  {
   "cell_type": "code",
   "execution_count": 45,
   "id": "b7eb8109-164c-46ae-a1fb-96af44ee041f",
   "metadata": {},
   "outputs": [
    {
     "data": {
      "text/plain": [
       "array([1, 4])"
      ]
     },
     "execution_count": 45,
     "metadata": {},
     "output_type": "execute_result"
    }
   ],
   "source": [
    "np.diag(A)"
   ]
  },
  {
   "cell_type": "code",
   "execution_count": 46,
   "id": "97706cb5-a363-47e7-a195-eb2f3f42f631",
   "metadata": {},
   "outputs": [
    {
     "data": {
      "text/plain": [
       "array([[1, 0],\n",
       "       [0, 4]])"
      ]
     },
     "execution_count": 46,
     "metadata": {},
     "output_type": "execute_result"
    }
   ],
   "source": [
    "np.diag([1,4])"
   ]
  },
  {
   "cell_type": "code",
   "execution_count": 47,
   "id": "087ad370-3890-40e1-8950-3bfb0aceb4bb",
   "metadata": {},
   "outputs": [
    {
     "data": {
      "text/plain": [
       "EigResult(eigenvalues=array([-0.37228132,  5.37228132]), eigenvectors=array([[-0.82456484, -0.41597356],\n",
       "       [ 0.56576746, -0.90937671]]))"
      ]
     },
     "execution_count": 47,
     "metadata": {},
     "output_type": "execute_result"
    }
   ],
   "source": [
    "np.linalg.eig(A)"
   ]
  },
  {
   "cell_type": "code",
   "execution_count": 48,
   "id": "12d538ec-2a22-4f5f-929b-2b8481aa5a94",
   "metadata": {},
   "outputs": [],
   "source": [
    "Lam, V = np.linalg.eig(A)"
   ]
  },
  {
   "cell_type": "code",
   "execution_count": 49,
   "id": "7ced4c1c-3d81-49b1-9229-2d2f0a9a1002",
   "metadata": {},
   "outputs": [
    {
     "data": {
      "text/plain": [
       "array([ True, False])"
      ]
     },
     "execution_count": 49,
     "metadata": {},
     "output_type": "execute_result"
    }
   ],
   "source": [
    "V[:,0] * Lam[0] == A @ V[:, 0]"
   ]
  },
  {
   "cell_type": "code",
   "execution_count": 50,
   "id": "4ffd4691-5d6c-48a4-9359-98245d429afa",
   "metadata": {},
   "outputs": [
    {
     "data": {
      "text/plain": [
       "(array([ 0.30697009, -0.21062466]), array([ 0.30697009, -0.21062466]))"
      ]
     },
     "execution_count": 50,
     "metadata": {},
     "output_type": "execute_result"
    }
   ],
   "source": [
    "V[:,0] * Lam[0], A @ V[:, 0]"
   ]
  },
  {
   "cell_type": "code",
   "execution_count": 51,
   "id": "1f0a2858-c961-41a2-997d-ced42974cfbb",
   "metadata": {},
   "outputs": [
    {
     "data": {
      "text/plain": [
       "True"
      ]
     },
     "execution_count": 51,
     "metadata": {},
     "output_type": "execute_result"
    }
   ],
   "source": [
    "np.allclose(V[:,0] * Lam[0], A @ V[:,0])"
   ]
  },
  {
   "cell_type": "code",
   "execution_count": 52,
   "id": "23cadde6-d2ed-4d21-8737-13b6f1c33600",
   "metadata": {},
   "outputs": [
    {
     "data": {
      "text/plain": [
       "True"
      ]
     },
     "execution_count": 52,
     "metadata": {},
     "output_type": "execute_result"
    }
   ],
   "source": [
    "np.allclose(V @ np.diag(Lam), A @ V)"
   ]
  },
  {
   "cell_type": "markdown",
   "id": "89d0af14-be1a-4c30-87fb-61e5d8e0e740",
   "metadata": {},
   "source": [
    "# Generating Data"
   ]
  },
  {
   "cell_type": "code",
   "execution_count": 53,
   "id": "dfad0f1b-22e6-4f25-9a15-2be67dc9527d",
   "metadata": {},
   "outputs": [
    {
     "data": {
      "text/plain": [
       "array([[0., 0., 0.],\n",
       "       [0., 0., 0.]])"
      ]
     },
     "execution_count": 53,
     "metadata": {},
     "output_type": "execute_result"
    }
   ],
   "source": [
    "np.zeros((2,3))"
   ]
  },
  {
   "cell_type": "code",
   "execution_count": 54,
   "id": "3b053cd7-d2b6-4a06-ace4-2b0f7a1d2eb2",
   "metadata": {},
   "outputs": [
    {
     "data": {
      "text/plain": [
       "array([[1., 1., 1.],\n",
       "       [1., 1., 1.]])"
      ]
     },
     "execution_count": 54,
     "metadata": {},
     "output_type": "execute_result"
    }
   ],
   "source": [
    "np.ones((2,3))"
   ]
  },
  {
   "cell_type": "code",
   "execution_count": 55,
   "id": "9ec27cfd-bf11-4c34-9fd7-ccb0dfe9e63f",
   "metadata": {},
   "outputs": [
    {
     "data": {
      "text/plain": [
       "array([[10., 10., 10.],\n",
       "       [10., 10., 10.]])"
      ]
     },
     "execution_count": 55,
     "metadata": {},
     "output_type": "execute_result"
    }
   ],
   "source": [
    "10 * np.ones((2,3))"
   ]
  },
  {
   "cell_type": "code",
   "execution_count": 56,
   "id": "1d6bd052-c32b-416c-b236-833f7684968e",
   "metadata": {},
   "outputs": [
    {
     "data": {
      "text/plain": [
       "array([[1., 0., 0.],\n",
       "       [0., 1., 0.],\n",
       "       [0., 0., 1.]])"
      ]
     },
     "execution_count": 56,
     "metadata": {},
     "output_type": "execute_result"
    }
   ],
   "source": [
    "np.eye(3)"
   ]
  },
  {
   "cell_type": "code",
   "execution_count": 57,
   "id": "9e2ad3a8-0e0b-4861-ab95-63a440c38db6",
   "metadata": {},
   "outputs": [
    {
     "data": {
      "text/plain": [
       "0.2381187580697497"
      ]
     },
     "execution_count": 57,
     "metadata": {},
     "output_type": "execute_result"
    }
   ],
   "source": [
    "np.random.random()"
   ]
  },
  {
   "cell_type": "code",
   "execution_count": 58,
   "id": "4a635f49-831f-4149-aef8-ddac63b03e34",
   "metadata": {},
   "outputs": [
    {
     "data": {
      "text/plain": [
       "array([[0.18233314, 0.16707212, 0.36477756],\n",
       "       [0.95819243, 0.05382609, 0.00384187]])"
      ]
     },
     "execution_count": 58,
     "metadata": {},
     "output_type": "execute_result"
    }
   ],
   "source": [
    "np.random.random((2,3))"
   ]
  },
  {
   "cell_type": "code",
   "execution_count": 59,
   "id": "55932df9-21dd-4da6-badb-473508ba7a11",
   "metadata": {},
   "outputs": [
    {
     "data": {
      "text/plain": [
       "array([[-1.20006406, -1.00304515, -0.01587862],\n",
       "       [ 0.41331005,  0.76439499, -1.41031725]])"
      ]
     },
     "execution_count": 59,
     "metadata": {},
     "output_type": "execute_result"
    }
   ],
   "source": [
    "np.random.randn(2,3)"
   ]
  },
  {
   "cell_type": "code",
   "execution_count": 60,
   "id": "1865dab3-2c36-4252-9eda-7467ea949aaf",
   "metadata": {},
   "outputs": [],
   "source": [
    "R = np.random.randn(10000)"
   ]
  },
  {
   "cell_type": "code",
   "execution_count": 61,
   "id": "778bb1ca-d583-4b99-b09f-76f95d361e41",
   "metadata": {},
   "outputs": [
    {
     "data": {
      "text/plain": [
       "-0.0040523690799264675"
      ]
     },
     "execution_count": 61,
     "metadata": {},
     "output_type": "execute_result"
    }
   ],
   "source": [
    "R.mean()"
   ]
  },
  {
   "cell_type": "code",
   "execution_count": 62,
   "id": "4af824ab-04c8-4903-9f8b-4db49ba61adf",
   "metadata": {},
   "outputs": [
    {
     "data": {
      "text/plain": [
       "-0.0040523690799264675"
      ]
     },
     "execution_count": 62,
     "metadata": {},
     "output_type": "execute_result"
    }
   ],
   "source": [
    "np.mean(R)"
   ]
  },
  {
   "cell_type": "code",
   "execution_count": 63,
   "id": "a8ee4318-2dbb-4756-962a-40b5bc5a9325",
   "metadata": {},
   "outputs": [
    {
     "data": {
      "text/plain": [
       "1.0006031180576065"
      ]
     },
     "execution_count": 63,
     "metadata": {},
     "output_type": "execute_result"
    }
   ],
   "source": [
    "R.var()"
   ]
  },
  {
   "cell_type": "code",
   "execution_count": 64,
   "id": "496cb8f2-3566-4601-a201-8c3c4dac763d",
   "metadata": {},
   "outputs": [
    {
     "data": {
      "text/plain": [
       "1.0003015135735858"
      ]
     },
     "execution_count": 64,
     "metadata": {},
     "output_type": "execute_result"
    }
   ],
   "source": [
    "R.std()"
   ]
  },
  {
   "cell_type": "code",
   "execution_count": 65,
   "id": "33c1785a-87db-42a1-9e13-921602167b99",
   "metadata": {},
   "outputs": [
    {
     "data": {
      "text/plain": [
       "array(1.00070319)"
      ]
     },
     "execution_count": 65,
     "metadata": {},
     "output_type": "execute_result"
    }
   ],
   "source": [
    "np.cov(R)"
   ]
  },
  {
   "cell_type": "code",
   "execution_count": 66,
   "id": "293978b1-b17a-4a3d-bf63-d401b2a0a409",
   "metadata": {},
   "outputs": [
    {
     "data": {
      "text/plain": [
       "array([[3, 0, 0],\n",
       "       [0, 6, 3],\n",
       "       [4, 4, 8]])"
      ]
     },
     "execution_count": 66,
     "metadata": {},
     "output_type": "execute_result"
    }
   ],
   "source": [
    "np.random.randint(0,10, size=(3,3))"
   ]
  },
  {
   "cell_type": "code",
   "execution_count": 67,
   "id": "665e6688-1a73-4f7f-843c-b812e5118dd0",
   "metadata": {},
   "outputs": [
    {
     "data": {
      "text/plain": [
       "array([85, 26, 83, 95, 84, 52])"
      ]
     },
     "execution_count": 67,
     "metadata": {},
     "output_type": "execute_result"
    }
   ],
   "source": [
    "np.random.randint(0,100,6)"
   ]
  },
  {
   "cell_type": "code",
   "execution_count": null,
   "id": "7799f16e-e794-4303-863c-028783446261",
   "metadata": {},
   "outputs": [],
   "source": []
  },
  {
   "cell_type": "code",
   "execution_count": 68,
   "id": "39405589-3b2c-4d92-a2a8-f9e41840efad",
   "metadata": {},
   "outputs": [
    {
     "data": {
      "text/plain": [
       "array([[19, 73],\n",
       "       [30, 35],\n",
       "       [95, 59]])"
      ]
     },
     "execution_count": 68,
     "metadata": {},
     "output_type": "execute_result"
    }
   ],
   "source": [
    "np.random.randint(0,100,6).reshape(3,2)"
   ]
  },
  {
   "cell_type": "code",
   "execution_count": 69,
   "id": "3829772e-3fe8-44e9-916a-50d2f6a0ee2e",
   "metadata": {},
   "outputs": [
    {
     "name": "stdout",
     "output_type": "stream",
     "text": [
      "[ 6 12 18]\n"
     ]
    }
   ],
   "source": [
    "a = np.array([1,2,3])\n",
    "b = 6\n",
    "print( a * b)"
   ]
  },
  {
   "cell_type": "code",
   "execution_count": 71,
   "id": "1d98685b-7bd1-4eb5-98d0-0ea9dd4d6bfc",
   "metadata": {},
   "outputs": [
    {
     "name": "stdout",
     "output_type": "stream",
     "text": [
      "[1, 2, 3, 4, 1, 2, 3, 4, 1, 2, 3, 4]\n"
     ]
    }
   ],
   "source": [
    "a = [1, 2, 3,4]\n",
    "b = 3\n",
    "print(a * b)"
   ]
  },
  {
   "cell_type": "markdown",
   "id": "c61b7a66-b645-4b87-89bb-f58a3dd9a4c6",
   "metadata": {},
   "source": [
    "# Loading Data using Pandas"
   ]
  },
  {
   "cell_type": "code",
   "execution_count": 2,
   "id": "7f05c97a-6d8b-41c6-87d0-ab6a42394092",
   "metadata": {},
   "outputs": [],
   "source": [
    "import pandas as pd"
   ]
  },
  {
   "cell_type": "code",
   "execution_count": 3,
   "id": "261ab2ea-ffca-4970-ab7f-a34560efdb3e",
   "metadata": {},
   "outputs": [],
   "source": [
    "df = pd.read_csv('sbux.csv')"
   ]
  },
  {
   "cell_type": "code",
   "execution_count": 5,
   "id": "26f3d3b4-4bc8-443e-a637-7cb4ff96e211",
   "metadata": {},
   "outputs": [
    {
     "data": {
      "text/plain": [
       "pandas.core.frame.DataFrame"
      ]
     },
     "execution_count": 5,
     "metadata": {},
     "output_type": "execute_result"
    }
   ],
   "source": [
    "type(df)"
   ]
  },
  {
   "cell_type": "code",
   "execution_count": 7,
   "id": "386001c8-9218-44de-8957-d150ca890136",
   "metadata": {},
   "outputs": [
    {
     "data": {
      "text/html": [
       "<div>\n",
       "<style scoped>\n",
       "    .dataframe tbody tr th:only-of-type {\n",
       "        vertical-align: middle;\n",
       "    }\n",
       "\n",
       "    .dataframe tbody tr th {\n",
       "        vertical-align: top;\n",
       "    }\n",
       "\n",
       "    .dataframe thead th {\n",
       "        text-align: right;\n",
       "    }\n",
       "</style>\n",
       "<table border=\"1\" class=\"dataframe\">\n",
       "  <thead>\n",
       "    <tr style=\"text-align: right;\">\n",
       "      <th></th>\n",
       "      <th>date</th>\n",
       "      <th>open</th>\n",
       "      <th>high</th>\n",
       "      <th>low</th>\n",
       "      <th>close</th>\n",
       "      <th>volume</th>\n",
       "      <th>Name</th>\n",
       "    </tr>\n",
       "  </thead>\n",
       "  <tbody>\n",
       "    <tr>\n",
       "      <th>0</th>\n",
       "      <td>2013-02-08</td>\n",
       "      <td>27.920</td>\n",
       "      <td>28.325</td>\n",
       "      <td>27.920</td>\n",
       "      <td>28.185</td>\n",
       "      <td>7146296</td>\n",
       "      <td>SBUX</td>\n",
       "    </tr>\n",
       "    <tr>\n",
       "      <th>1</th>\n",
       "      <td>2013-02-11</td>\n",
       "      <td>28.260</td>\n",
       "      <td>28.260</td>\n",
       "      <td>27.930</td>\n",
       "      <td>28.070</td>\n",
       "      <td>5457354</td>\n",
       "      <td>SBUX</td>\n",
       "    </tr>\n",
       "    <tr>\n",
       "      <th>2</th>\n",
       "      <td>2013-02-12</td>\n",
       "      <td>28.000</td>\n",
       "      <td>28.275</td>\n",
       "      <td>27.975</td>\n",
       "      <td>28.130</td>\n",
       "      <td>8665592</td>\n",
       "      <td>SBUX</td>\n",
       "    </tr>\n",
       "    <tr>\n",
       "      <th>3</th>\n",
       "      <td>2013-02-13</td>\n",
       "      <td>28.230</td>\n",
       "      <td>28.230</td>\n",
       "      <td>27.750</td>\n",
       "      <td>27.915</td>\n",
       "      <td>7022056</td>\n",
       "      <td>SBUX</td>\n",
       "    </tr>\n",
       "    <tr>\n",
       "      <th>4</th>\n",
       "      <td>2013-02-14</td>\n",
       "      <td>27.765</td>\n",
       "      <td>27.905</td>\n",
       "      <td>27.675</td>\n",
       "      <td>27.775</td>\n",
       "      <td>8899188</td>\n",
       "      <td>SBUX</td>\n",
       "    </tr>\n",
       "  </tbody>\n",
       "</table>\n",
       "</div>"
      ],
      "text/plain": [
       "         date    open    high     low   close   volume  Name\n",
       "0  2013-02-08  27.920  28.325  27.920  28.185  7146296  SBUX\n",
       "1  2013-02-11  28.260  28.260  27.930  28.070  5457354  SBUX\n",
       "2  2013-02-12  28.000  28.275  27.975  28.130  8665592  SBUX\n",
       "3  2013-02-13  28.230  28.230  27.750  27.915  7022056  SBUX\n",
       "4  2013-02-14  27.765  27.905  27.675  27.775  8899188  SBUX"
      ]
     },
     "execution_count": 7,
     "metadata": {},
     "output_type": "execute_result"
    }
   ],
   "source": [
    "df.head()"
   ]
  },
  {
   "cell_type": "code",
   "execution_count": 8,
   "id": "b1312f47-7e1a-401a-a21e-edc187133c9a",
   "metadata": {},
   "outputs": [
    {
     "data": {
      "text/html": [
       "<div>\n",
       "<style scoped>\n",
       "    .dataframe tbody tr th:only-of-type {\n",
       "        vertical-align: middle;\n",
       "    }\n",
       "\n",
       "    .dataframe tbody tr th {\n",
       "        vertical-align: top;\n",
       "    }\n",
       "\n",
       "    .dataframe thead th {\n",
       "        text-align: right;\n",
       "    }\n",
       "</style>\n",
       "<table border=\"1\" class=\"dataframe\">\n",
       "  <thead>\n",
       "    <tr style=\"text-align: right;\">\n",
       "      <th></th>\n",
       "      <th>date</th>\n",
       "      <th>open</th>\n",
       "      <th>high</th>\n",
       "      <th>low</th>\n",
       "      <th>close</th>\n",
       "      <th>volume</th>\n",
       "      <th>Name</th>\n",
       "    </tr>\n",
       "  </thead>\n",
       "  <tbody>\n",
       "    <tr>\n",
       "      <th>0</th>\n",
       "      <td>2013-02-08</td>\n",
       "      <td>27.920</td>\n",
       "      <td>28.325</td>\n",
       "      <td>27.920</td>\n",
       "      <td>28.185</td>\n",
       "      <td>7146296</td>\n",
       "      <td>SBUX</td>\n",
       "    </tr>\n",
       "    <tr>\n",
       "      <th>1</th>\n",
       "      <td>2013-02-11</td>\n",
       "      <td>28.260</td>\n",
       "      <td>28.260</td>\n",
       "      <td>27.930</td>\n",
       "      <td>28.070</td>\n",
       "      <td>5457354</td>\n",
       "      <td>SBUX</td>\n",
       "    </tr>\n",
       "    <tr>\n",
       "      <th>2</th>\n",
       "      <td>2013-02-12</td>\n",
       "      <td>28.000</td>\n",
       "      <td>28.275</td>\n",
       "      <td>27.975</td>\n",
       "      <td>28.130</td>\n",
       "      <td>8665592</td>\n",
       "      <td>SBUX</td>\n",
       "    </tr>\n",
       "    <tr>\n",
       "      <th>3</th>\n",
       "      <td>2013-02-13</td>\n",
       "      <td>28.230</td>\n",
       "      <td>28.230</td>\n",
       "      <td>27.750</td>\n",
       "      <td>27.915</td>\n",
       "      <td>7022056</td>\n",
       "      <td>SBUX</td>\n",
       "    </tr>\n",
       "    <tr>\n",
       "      <th>4</th>\n",
       "      <td>2013-02-14</td>\n",
       "      <td>27.765</td>\n",
       "      <td>27.905</td>\n",
       "      <td>27.675</td>\n",
       "      <td>27.775</td>\n",
       "      <td>8899188</td>\n",
       "      <td>SBUX</td>\n",
       "    </tr>\n",
       "    <tr>\n",
       "      <th>5</th>\n",
       "      <td>2013-02-15</td>\n",
       "      <td>27.805</td>\n",
       "      <td>27.850</td>\n",
       "      <td>27.085</td>\n",
       "      <td>27.170</td>\n",
       "      <td>18195730</td>\n",
       "      <td>SBUX</td>\n",
       "    </tr>\n",
       "    <tr>\n",
       "      <th>6</th>\n",
       "      <td>2013-02-19</td>\n",
       "      <td>27.180</td>\n",
       "      <td>27.305</td>\n",
       "      <td>27.010</td>\n",
       "      <td>27.225</td>\n",
       "      <td>11760912</td>\n",
       "      <td>SBUX</td>\n",
       "    </tr>\n",
       "    <tr>\n",
       "      <th>7</th>\n",
       "      <td>2013-02-20</td>\n",
       "      <td>27.300</td>\n",
       "      <td>27.420</td>\n",
       "      <td>26.590</td>\n",
       "      <td>26.655</td>\n",
       "      <td>12472506</td>\n",
       "      <td>SBUX</td>\n",
       "    </tr>\n",
       "    <tr>\n",
       "      <th>8</th>\n",
       "      <td>2013-02-21</td>\n",
       "      <td>26.535</td>\n",
       "      <td>26.820</td>\n",
       "      <td>26.260</td>\n",
       "      <td>26.675</td>\n",
       "      <td>13896450</td>\n",
       "      <td>SBUX</td>\n",
       "    </tr>\n",
       "    <tr>\n",
       "      <th>9</th>\n",
       "      <td>2013-02-22</td>\n",
       "      <td>26.850</td>\n",
       "      <td>27.105</td>\n",
       "      <td>26.640</td>\n",
       "      <td>27.085</td>\n",
       "      <td>11487316</td>\n",
       "      <td>SBUX</td>\n",
       "    </tr>\n",
       "  </tbody>\n",
       "</table>\n",
       "</div>"
      ],
      "text/plain": [
       "         date    open    high     low   close    volume  Name\n",
       "0  2013-02-08  27.920  28.325  27.920  28.185   7146296  SBUX\n",
       "1  2013-02-11  28.260  28.260  27.930  28.070   5457354  SBUX\n",
       "2  2013-02-12  28.000  28.275  27.975  28.130   8665592  SBUX\n",
       "3  2013-02-13  28.230  28.230  27.750  27.915   7022056  SBUX\n",
       "4  2013-02-14  27.765  27.905  27.675  27.775   8899188  SBUX\n",
       "5  2013-02-15  27.805  27.850  27.085  27.170  18195730  SBUX\n",
       "6  2013-02-19  27.180  27.305  27.010  27.225  11760912  SBUX\n",
       "7  2013-02-20  27.300  27.420  26.590  26.655  12472506  SBUX\n",
       "8  2013-02-21  26.535  26.820  26.260  26.675  13896450  SBUX\n",
       "9  2013-02-22  26.850  27.105  26.640  27.085  11487316  SBUX"
      ]
     },
     "execution_count": 8,
     "metadata": {},
     "output_type": "execute_result"
    }
   ],
   "source": [
    "df.head(10)"
   ]
  },
  {
   "cell_type": "code",
   "execution_count": 9,
   "id": "4f730293-45d2-4ef1-b694-19062580d63d",
   "metadata": {},
   "outputs": [
    {
     "data": {
      "text/html": [
       "<div>\n",
       "<style scoped>\n",
       "    .dataframe tbody tr th:only-of-type {\n",
       "        vertical-align: middle;\n",
       "    }\n",
       "\n",
       "    .dataframe tbody tr th {\n",
       "        vertical-align: top;\n",
       "    }\n",
       "\n",
       "    .dataframe thead th {\n",
       "        text-align: right;\n",
       "    }\n",
       "</style>\n",
       "<table border=\"1\" class=\"dataframe\">\n",
       "  <thead>\n",
       "    <tr style=\"text-align: right;\">\n",
       "      <th></th>\n",
       "      <th>date</th>\n",
       "      <th>open</th>\n",
       "      <th>high</th>\n",
       "      <th>low</th>\n",
       "      <th>close</th>\n",
       "      <th>volume</th>\n",
       "      <th>Name</th>\n",
       "    </tr>\n",
       "  </thead>\n",
       "  <tbody>\n",
       "    <tr>\n",
       "      <th>1254</th>\n",
       "      <td>2018-02-01</td>\n",
       "      <td>56.280</td>\n",
       "      <td>56.42</td>\n",
       "      <td>55.89</td>\n",
       "      <td>56.00</td>\n",
       "      <td>14690146</td>\n",
       "      <td>SBUX</td>\n",
       "    </tr>\n",
       "    <tr>\n",
       "      <th>1255</th>\n",
       "      <td>2018-02-02</td>\n",
       "      <td>55.900</td>\n",
       "      <td>56.32</td>\n",
       "      <td>55.70</td>\n",
       "      <td>55.77</td>\n",
       "      <td>15358909</td>\n",
       "      <td>SBUX</td>\n",
       "    </tr>\n",
       "    <tr>\n",
       "      <th>1256</th>\n",
       "      <td>2018-02-05</td>\n",
       "      <td>55.530</td>\n",
       "      <td>56.26</td>\n",
       "      <td>54.57</td>\n",
       "      <td>54.69</td>\n",
       "      <td>16059955</td>\n",
       "      <td>SBUX</td>\n",
       "    </tr>\n",
       "    <tr>\n",
       "      <th>1257</th>\n",
       "      <td>2018-02-06</td>\n",
       "      <td>53.685</td>\n",
       "      <td>56.06</td>\n",
       "      <td>53.56</td>\n",
       "      <td>55.61</td>\n",
       "      <td>17415065</td>\n",
       "      <td>SBUX</td>\n",
       "    </tr>\n",
       "    <tr>\n",
       "      <th>1258</th>\n",
       "      <td>2018-02-07</td>\n",
       "      <td>55.080</td>\n",
       "      <td>55.43</td>\n",
       "      <td>54.44</td>\n",
       "      <td>54.46</td>\n",
       "      <td>13927022</td>\n",
       "      <td>SBUX</td>\n",
       "    </tr>\n",
       "  </tbody>\n",
       "</table>\n",
       "</div>"
      ],
      "text/plain": [
       "            date    open   high    low  close    volume  Name\n",
       "1254  2018-02-01  56.280  56.42  55.89  56.00  14690146  SBUX\n",
       "1255  2018-02-02  55.900  56.32  55.70  55.77  15358909  SBUX\n",
       "1256  2018-02-05  55.530  56.26  54.57  54.69  16059955  SBUX\n",
       "1257  2018-02-06  53.685  56.06  53.56  55.61  17415065  SBUX\n",
       "1258  2018-02-07  55.080  55.43  54.44  54.46  13927022  SBUX"
      ]
     },
     "execution_count": 9,
     "metadata": {},
     "output_type": "execute_result"
    }
   ],
   "source": [
    "df.tail()"
   ]
  },
  {
   "cell_type": "code",
   "execution_count": 10,
   "id": "a6f6eef0-db39-47c4-aa89-5dec7589adf2",
   "metadata": {},
   "outputs": [
    {
     "name": "stdout",
     "output_type": "stream",
     "text": [
      "<class 'pandas.core.frame.DataFrame'>\n",
      "RangeIndex: 1259 entries, 0 to 1258\n",
      "Data columns (total 7 columns):\n",
      " #   Column  Non-Null Count  Dtype  \n",
      "---  ------  --------------  -----  \n",
      " 0   date    1259 non-null   object \n",
      " 1   open    1259 non-null   float64\n",
      " 2   high    1259 non-null   float64\n",
      " 3   low     1259 non-null   float64\n",
      " 4   close   1259 non-null   float64\n",
      " 5   volume  1259 non-null   int64  \n",
      " 6   Name    1259 non-null   object \n",
      "dtypes: float64(4), int64(1), object(2)\n",
      "memory usage: 69.0+ KB\n"
     ]
    }
   ],
   "source": [
    "df.info()"
   ]
  },
  {
   "cell_type": "markdown",
   "id": "155e0c4d-aca4-4224-ba9f-b0357d9bb334",
   "metadata": {},
   "source": [
    "# Selecting Rows and Columns in DataFrame"
   ]
  },
  {
   "cell_type": "code",
   "execution_count": 11,
   "id": "12560ea9-3bf0-4e07-9ecd-8ca062707fb4",
   "metadata": {},
   "outputs": [
    {
     "data": {
      "text/plain": [
       "Index(['date', 'open', 'high', 'low', 'close', 'volume', 'Name'], dtype='object')"
      ]
     },
     "execution_count": 11,
     "metadata": {},
     "output_type": "execute_result"
    }
   ],
   "source": [
    "df.columns"
   ]
  },
  {
   "cell_type": "code",
   "execution_count": 12,
   "id": "b727b75b-14c8-4d68-bbe0-a217e40a7870",
   "metadata": {},
   "outputs": [],
   "source": [
    "df.columns = ['date', 'open', 'high', 'low', 'close', 'volume', 'name']"
   ]
  },
  {
   "cell_type": "code",
   "execution_count": 13,
   "id": "2b2dbc6e-578f-4158-becc-42d53a920e75",
   "metadata": {},
   "outputs": [
    {
     "data": {
      "text/html": [
       "<div>\n",
       "<style scoped>\n",
       "    .dataframe tbody tr th:only-of-type {\n",
       "        vertical-align: middle;\n",
       "    }\n",
       "\n",
       "    .dataframe tbody tr th {\n",
       "        vertical-align: top;\n",
       "    }\n",
       "\n",
       "    .dataframe thead th {\n",
       "        text-align: right;\n",
       "    }\n",
       "</style>\n",
       "<table border=\"1\" class=\"dataframe\">\n",
       "  <thead>\n",
       "    <tr style=\"text-align: right;\">\n",
       "      <th></th>\n",
       "      <th>date</th>\n",
       "      <th>open</th>\n",
       "      <th>high</th>\n",
       "      <th>low</th>\n",
       "      <th>close</th>\n",
       "      <th>volume</th>\n",
       "      <th>name</th>\n",
       "    </tr>\n",
       "  </thead>\n",
       "  <tbody>\n",
       "    <tr>\n",
       "      <th>0</th>\n",
       "      <td>2013-02-08</td>\n",
       "      <td>27.920</td>\n",
       "      <td>28.325</td>\n",
       "      <td>27.920</td>\n",
       "      <td>28.185</td>\n",
       "      <td>7146296</td>\n",
       "      <td>SBUX</td>\n",
       "    </tr>\n",
       "    <tr>\n",
       "      <th>1</th>\n",
       "      <td>2013-02-11</td>\n",
       "      <td>28.260</td>\n",
       "      <td>28.260</td>\n",
       "      <td>27.930</td>\n",
       "      <td>28.070</td>\n",
       "      <td>5457354</td>\n",
       "      <td>SBUX</td>\n",
       "    </tr>\n",
       "    <tr>\n",
       "      <th>2</th>\n",
       "      <td>2013-02-12</td>\n",
       "      <td>28.000</td>\n",
       "      <td>28.275</td>\n",
       "      <td>27.975</td>\n",
       "      <td>28.130</td>\n",
       "      <td>8665592</td>\n",
       "      <td>SBUX</td>\n",
       "    </tr>\n",
       "    <tr>\n",
       "      <th>3</th>\n",
       "      <td>2013-02-13</td>\n",
       "      <td>28.230</td>\n",
       "      <td>28.230</td>\n",
       "      <td>27.750</td>\n",
       "      <td>27.915</td>\n",
       "      <td>7022056</td>\n",
       "      <td>SBUX</td>\n",
       "    </tr>\n",
       "    <tr>\n",
       "      <th>4</th>\n",
       "      <td>2013-02-14</td>\n",
       "      <td>27.765</td>\n",
       "      <td>27.905</td>\n",
       "      <td>27.675</td>\n",
       "      <td>27.775</td>\n",
       "      <td>8899188</td>\n",
       "      <td>SBUX</td>\n",
       "    </tr>\n",
       "  </tbody>\n",
       "</table>\n",
       "</div>"
      ],
      "text/plain": [
       "         date    open    high     low   close   volume  name\n",
       "0  2013-02-08  27.920  28.325  27.920  28.185  7146296  SBUX\n",
       "1  2013-02-11  28.260  28.260  27.930  28.070  5457354  SBUX\n",
       "2  2013-02-12  28.000  28.275  27.975  28.130  8665592  SBUX\n",
       "3  2013-02-13  28.230  28.230  27.750  27.915  7022056  SBUX\n",
       "4  2013-02-14  27.765  27.905  27.675  27.775  8899188  SBUX"
      ]
     },
     "execution_count": 13,
     "metadata": {},
     "output_type": "execute_result"
    }
   ],
   "source": [
    "df.head()"
   ]
  },
  {
   "cell_type": "code",
   "execution_count": 15,
   "id": "0089b08e-4f80-435c-9107-c7cb16865bef",
   "metadata": {},
   "outputs": [
    {
     "data": {
      "text/plain": [
       "0       27.920\n",
       "1       28.260\n",
       "2       28.000\n",
       "3       28.230\n",
       "4       27.765\n",
       "         ...  \n",
       "1254    56.280\n",
       "1255    55.900\n",
       "1256    55.530\n",
       "1257    53.685\n",
       "1258    55.080\n",
       "Name: open, Length: 1259, dtype: float64"
      ]
     },
     "execution_count": 15,
     "metadata": {},
     "output_type": "execute_result"
    }
   ],
   "source": [
    "df['open']"
   ]
  },
  {
   "cell_type": "code",
   "execution_count": 16,
   "id": "970fd479-cfb5-4bd6-b925-e82691026a84",
   "metadata": {},
   "outputs": [
    {
     "data": {
      "text/html": [
       "<div>\n",
       "<style scoped>\n",
       "    .dataframe tbody tr th:only-of-type {\n",
       "        vertical-align: middle;\n",
       "    }\n",
       "\n",
       "    .dataframe tbody tr th {\n",
       "        vertical-align: top;\n",
       "    }\n",
       "\n",
       "    .dataframe thead th {\n",
       "        text-align: right;\n",
       "    }\n",
       "</style>\n",
       "<table border=\"1\" class=\"dataframe\">\n",
       "  <thead>\n",
       "    <tr style=\"text-align: right;\">\n",
       "      <th></th>\n",
       "      <th>open</th>\n",
       "      <th>close</th>\n",
       "    </tr>\n",
       "  </thead>\n",
       "  <tbody>\n",
       "    <tr>\n",
       "      <th>0</th>\n",
       "      <td>27.920</td>\n",
       "      <td>28.185</td>\n",
       "    </tr>\n",
       "    <tr>\n",
       "      <th>1</th>\n",
       "      <td>28.260</td>\n",
       "      <td>28.070</td>\n",
       "    </tr>\n",
       "    <tr>\n",
       "      <th>2</th>\n",
       "      <td>28.000</td>\n",
       "      <td>28.130</td>\n",
       "    </tr>\n",
       "    <tr>\n",
       "      <th>3</th>\n",
       "      <td>28.230</td>\n",
       "      <td>27.915</td>\n",
       "    </tr>\n",
       "    <tr>\n",
       "      <th>4</th>\n",
       "      <td>27.765</td>\n",
       "      <td>27.775</td>\n",
       "    </tr>\n",
       "    <tr>\n",
       "      <th>...</th>\n",
       "      <td>...</td>\n",
       "      <td>...</td>\n",
       "    </tr>\n",
       "    <tr>\n",
       "      <th>1254</th>\n",
       "      <td>56.280</td>\n",
       "      <td>56.000</td>\n",
       "    </tr>\n",
       "    <tr>\n",
       "      <th>1255</th>\n",
       "      <td>55.900</td>\n",
       "      <td>55.770</td>\n",
       "    </tr>\n",
       "    <tr>\n",
       "      <th>1256</th>\n",
       "      <td>55.530</td>\n",
       "      <td>54.690</td>\n",
       "    </tr>\n",
       "    <tr>\n",
       "      <th>1257</th>\n",
       "      <td>53.685</td>\n",
       "      <td>55.610</td>\n",
       "    </tr>\n",
       "    <tr>\n",
       "      <th>1258</th>\n",
       "      <td>55.080</td>\n",
       "      <td>54.460</td>\n",
       "    </tr>\n",
       "  </tbody>\n",
       "</table>\n",
       "<p>1259 rows × 2 columns</p>\n",
       "</div>"
      ],
      "text/plain": [
       "        open   close\n",
       "0     27.920  28.185\n",
       "1     28.260  28.070\n",
       "2     28.000  28.130\n",
       "3     28.230  27.915\n",
       "4     27.765  27.775\n",
       "...      ...     ...\n",
       "1254  56.280  56.000\n",
       "1255  55.900  55.770\n",
       "1256  55.530  54.690\n",
       "1257  53.685  55.610\n",
       "1258  55.080  54.460\n",
       "\n",
       "[1259 rows x 2 columns]"
      ]
     },
     "execution_count": 16,
     "metadata": {},
     "output_type": "execute_result"
    }
   ],
   "source": [
    "df[['open', 'close']]"
   ]
  },
  {
   "cell_type": "code",
   "execution_count": 17,
   "id": "225f6f2e-9ae8-4095-b5b3-72365af1d8c0",
   "metadata": {},
   "outputs": [
    {
     "data": {
      "text/plain": [
       "pandas.core.series.Series"
      ]
     },
     "execution_count": 17,
     "metadata": {},
     "output_type": "execute_result"
    }
   ],
   "source": [
    "type(df['open'])"
   ]
  },
  {
   "cell_type": "code",
   "execution_count": 18,
   "id": "d4539d53-24e5-4b1e-acbf-9048327650c4",
   "metadata": {},
   "outputs": [
    {
     "data": {
      "text/plain": [
       "pandas.core.frame.DataFrame"
      ]
     },
     "execution_count": 18,
     "metadata": {},
     "output_type": "execute_result"
    }
   ],
   "source": [
    "type(df[['open', 'close']])"
   ]
  },
  {
   "cell_type": "code",
   "execution_count": 19,
   "id": "e5ad6898-329b-4659-84cc-e367ea52f4e3",
   "metadata": {},
   "outputs": [
    {
     "data": {
      "text/plain": [
       "date      2013-02-08\n",
       "open           27.92\n",
       "high          28.325\n",
       "low            27.92\n",
       "close         28.185\n",
       "volume       7146296\n",
       "name            SBUX\n",
       "Name: 0, dtype: object"
      ]
     },
     "execution_count": 19,
     "metadata": {},
     "output_type": "execute_result"
    }
   ],
   "source": [
    "df.iloc[0]"
   ]
  },
  {
   "cell_type": "code",
   "execution_count": 20,
   "id": "2c56f78d-f6e9-4b92-9033-d4f740de903a",
   "metadata": {},
   "outputs": [],
   "source": [
    "df2 = pd.read_csv('sbux.csv', index_col ='date')"
   ]
  },
  {
   "cell_type": "code",
   "execution_count": 21,
   "id": "1cb49813-96cf-4cea-b052-075f38fce823",
   "metadata": {},
   "outputs": [
    {
     "data": {
      "text/html": [
       "<div>\n",
       "<style scoped>\n",
       "    .dataframe tbody tr th:only-of-type {\n",
       "        vertical-align: middle;\n",
       "    }\n",
       "\n",
       "    .dataframe tbody tr th {\n",
       "        vertical-align: top;\n",
       "    }\n",
       "\n",
       "    .dataframe thead th {\n",
       "        text-align: right;\n",
       "    }\n",
       "</style>\n",
       "<table border=\"1\" class=\"dataframe\">\n",
       "  <thead>\n",
       "    <tr style=\"text-align: right;\">\n",
       "      <th></th>\n",
       "      <th>open</th>\n",
       "      <th>high</th>\n",
       "      <th>low</th>\n",
       "      <th>close</th>\n",
       "      <th>volume</th>\n",
       "      <th>Name</th>\n",
       "    </tr>\n",
       "    <tr>\n",
       "      <th>date</th>\n",
       "      <th></th>\n",
       "      <th></th>\n",
       "      <th></th>\n",
       "      <th></th>\n",
       "      <th></th>\n",
       "      <th></th>\n",
       "    </tr>\n",
       "  </thead>\n",
       "  <tbody>\n",
       "    <tr>\n",
       "      <th>2013-02-08</th>\n",
       "      <td>27.920</td>\n",
       "      <td>28.325</td>\n",
       "      <td>27.920</td>\n",
       "      <td>28.185</td>\n",
       "      <td>7146296</td>\n",
       "      <td>SBUX</td>\n",
       "    </tr>\n",
       "    <tr>\n",
       "      <th>2013-02-11</th>\n",
       "      <td>28.260</td>\n",
       "      <td>28.260</td>\n",
       "      <td>27.930</td>\n",
       "      <td>28.070</td>\n",
       "      <td>5457354</td>\n",
       "      <td>SBUX</td>\n",
       "    </tr>\n",
       "    <tr>\n",
       "      <th>2013-02-12</th>\n",
       "      <td>28.000</td>\n",
       "      <td>28.275</td>\n",
       "      <td>27.975</td>\n",
       "      <td>28.130</td>\n",
       "      <td>8665592</td>\n",
       "      <td>SBUX</td>\n",
       "    </tr>\n",
       "    <tr>\n",
       "      <th>2013-02-13</th>\n",
       "      <td>28.230</td>\n",
       "      <td>28.230</td>\n",
       "      <td>27.750</td>\n",
       "      <td>27.915</td>\n",
       "      <td>7022056</td>\n",
       "      <td>SBUX</td>\n",
       "    </tr>\n",
       "    <tr>\n",
       "      <th>2013-02-14</th>\n",
       "      <td>27.765</td>\n",
       "      <td>27.905</td>\n",
       "      <td>27.675</td>\n",
       "      <td>27.775</td>\n",
       "      <td>8899188</td>\n",
       "      <td>SBUX</td>\n",
       "    </tr>\n",
       "  </tbody>\n",
       "</table>\n",
       "</div>"
      ],
      "text/plain": [
       "              open    high     low   close   volume  Name\n",
       "date                                                     \n",
       "2013-02-08  27.920  28.325  27.920  28.185  7146296  SBUX\n",
       "2013-02-11  28.260  28.260  27.930  28.070  5457354  SBUX\n",
       "2013-02-12  28.000  28.275  27.975  28.130  8665592  SBUX\n",
       "2013-02-13  28.230  28.230  27.750  27.915  7022056  SBUX\n",
       "2013-02-14  27.765  27.905  27.675  27.775  8899188  SBUX"
      ]
     },
     "execution_count": 21,
     "metadata": {},
     "output_type": "execute_result"
    }
   ],
   "source": [
    "df2.head()"
   ]
  },
  {
   "cell_type": "code",
   "execution_count": 22,
   "id": "8daaa485-3788-4668-9382-5f9143a21e1c",
   "metadata": {},
   "outputs": [
    {
     "data": {
      "text/plain": [
       "open         28.0\n",
       "high       28.275\n",
       "low        27.975\n",
       "close       28.13\n",
       "volume    8665592\n",
       "Name         SBUX\n",
       "Name: 2013-02-12, dtype: object"
      ]
     },
     "execution_count": 22,
     "metadata": {},
     "output_type": "execute_result"
    }
   ],
   "source": [
    "df2.loc['2013-02-12']"
   ]
  },
  {
   "cell_type": "code",
   "execution_count": 24,
   "id": "d675d6e8-74eb-4d45-821c-e0b46ce63e10",
   "metadata": {},
   "outputs": [],
   "source": [
    "df3 = pd.read_csv('sbux.csv', index_col ='close')"
   ]
  },
  {
   "cell_type": "code",
   "execution_count": 25,
   "id": "5384b758-781e-464d-bbff-247a1e14d84d",
   "metadata": {},
   "outputs": [
    {
     "data": {
      "text/html": [
       "<div>\n",
       "<style scoped>\n",
       "    .dataframe tbody tr th:only-of-type {\n",
       "        vertical-align: middle;\n",
       "    }\n",
       "\n",
       "    .dataframe tbody tr th {\n",
       "        vertical-align: top;\n",
       "    }\n",
       "\n",
       "    .dataframe thead th {\n",
       "        text-align: right;\n",
       "    }\n",
       "</style>\n",
       "<table border=\"1\" class=\"dataframe\">\n",
       "  <thead>\n",
       "    <tr style=\"text-align: right;\">\n",
       "      <th></th>\n",
       "      <th>date</th>\n",
       "      <th>open</th>\n",
       "      <th>high</th>\n",
       "      <th>low</th>\n",
       "      <th>volume</th>\n",
       "      <th>Name</th>\n",
       "    </tr>\n",
       "    <tr>\n",
       "      <th>close</th>\n",
       "      <th></th>\n",
       "      <th></th>\n",
       "      <th></th>\n",
       "      <th></th>\n",
       "      <th></th>\n",
       "      <th></th>\n",
       "    </tr>\n",
       "  </thead>\n",
       "  <tbody>\n",
       "    <tr>\n",
       "      <th>28.185</th>\n",
       "      <td>2013-02-08</td>\n",
       "      <td>27.920</td>\n",
       "      <td>28.325</td>\n",
       "      <td>27.920</td>\n",
       "      <td>7146296</td>\n",
       "      <td>SBUX</td>\n",
       "    </tr>\n",
       "    <tr>\n",
       "      <th>28.070</th>\n",
       "      <td>2013-02-11</td>\n",
       "      <td>28.260</td>\n",
       "      <td>28.260</td>\n",
       "      <td>27.930</td>\n",
       "      <td>5457354</td>\n",
       "      <td>SBUX</td>\n",
       "    </tr>\n",
       "    <tr>\n",
       "      <th>28.130</th>\n",
       "      <td>2013-02-12</td>\n",
       "      <td>28.000</td>\n",
       "      <td>28.275</td>\n",
       "      <td>27.975</td>\n",
       "      <td>8665592</td>\n",
       "      <td>SBUX</td>\n",
       "    </tr>\n",
       "    <tr>\n",
       "      <th>27.915</th>\n",
       "      <td>2013-02-13</td>\n",
       "      <td>28.230</td>\n",
       "      <td>28.230</td>\n",
       "      <td>27.750</td>\n",
       "      <td>7022056</td>\n",
       "      <td>SBUX</td>\n",
       "    </tr>\n",
       "    <tr>\n",
       "      <th>27.775</th>\n",
       "      <td>2013-02-14</td>\n",
       "      <td>27.765</td>\n",
       "      <td>27.905</td>\n",
       "      <td>27.675</td>\n",
       "      <td>8899188</td>\n",
       "      <td>SBUX</td>\n",
       "    </tr>\n",
       "  </tbody>\n",
       "</table>\n",
       "</div>"
      ],
      "text/plain": [
       "              date    open    high     low   volume  Name\n",
       "close                                                    \n",
       "28.185  2013-02-08  27.920  28.325  27.920  7146296  SBUX\n",
       "28.070  2013-02-11  28.260  28.260  27.930  5457354  SBUX\n",
       "28.130  2013-02-12  28.000  28.275  27.975  8665592  SBUX\n",
       "27.915  2013-02-13  28.230  28.230  27.750  7022056  SBUX\n",
       "27.775  2013-02-14  27.765  27.905  27.675  8899188  SBUX"
      ]
     },
     "execution_count": 25,
     "metadata": {},
     "output_type": "execute_result"
    }
   ],
   "source": [
    "df3.head()"
   ]
  },
  {
   "cell_type": "code",
   "execution_count": 26,
   "id": "f15cedb5-b719-49a7-8212-737094d7220c",
   "metadata": {},
   "outputs": [
    {
     "data": {
      "text/html": [
       "<div>\n",
       "<style scoped>\n",
       "    .dataframe tbody tr th:only-of-type {\n",
       "        vertical-align: middle;\n",
       "    }\n",
       "\n",
       "    .dataframe tbody tr th {\n",
       "        vertical-align: top;\n",
       "    }\n",
       "\n",
       "    .dataframe thead th {\n",
       "        text-align: right;\n",
       "    }\n",
       "</style>\n",
       "<table border=\"1\" class=\"dataframe\">\n",
       "  <thead>\n",
       "    <tr style=\"text-align: right;\">\n",
       "      <th></th>\n",
       "      <th>date</th>\n",
       "      <th>open</th>\n",
       "      <th>high</th>\n",
       "      <th>low</th>\n",
       "      <th>close</th>\n",
       "      <th>volume</th>\n",
       "      <th>name</th>\n",
       "    </tr>\n",
       "  </thead>\n",
       "  <tbody>\n",
       "    <tr>\n",
       "      <th>1087</th>\n",
       "      <td>2017-06-05</td>\n",
       "      <td>64.85</td>\n",
       "      <td>64.870</td>\n",
       "      <td>64.18</td>\n",
       "      <td>64.27</td>\n",
       "      <td>6809284</td>\n",
       "      <td>SBUX</td>\n",
       "    </tr>\n",
       "    <tr>\n",
       "      <th>1088</th>\n",
       "      <td>2017-06-06</td>\n",
       "      <td>64.22</td>\n",
       "      <td>64.350</td>\n",
       "      <td>64.05</td>\n",
       "      <td>64.16</td>\n",
       "      <td>5448439</td>\n",
       "      <td>SBUX</td>\n",
       "    </tr>\n",
       "    <tr>\n",
       "      <th>1089</th>\n",
       "      <td>2017-06-07</td>\n",
       "      <td>64.13</td>\n",
       "      <td>64.295</td>\n",
       "      <td>63.34</td>\n",
       "      <td>63.50</td>\n",
       "      <td>8364994</td>\n",
       "      <td>SBUX</td>\n",
       "    </tr>\n",
       "  </tbody>\n",
       "</table>\n",
       "</div>"
      ],
      "text/plain": [
       "            date   open    high    low  close   volume  name\n",
       "1087  2017-06-05  64.85  64.870  64.18  64.27  6809284  SBUX\n",
       "1088  2017-06-06  64.22  64.350  64.05  64.16  5448439  SBUX\n",
       "1089  2017-06-07  64.13  64.295  63.34  63.50  8364994  SBUX"
      ]
     },
     "execution_count": 26,
     "metadata": {},
     "output_type": "execute_result"
    }
   ],
   "source": [
    "df[df['open'] > 64]"
   ]
  },
  {
   "cell_type": "code",
   "execution_count": 27,
   "id": "c797e16a-35b0-48e5-b109-ae450cbff35c",
   "metadata": {},
   "outputs": [
    {
     "data": {
      "text/html": [
       "<div>\n",
       "<style scoped>\n",
       "    .dataframe tbody tr th:only-of-type {\n",
       "        vertical-align: middle;\n",
       "    }\n",
       "\n",
       "    .dataframe tbody tr th {\n",
       "        vertical-align: top;\n",
       "    }\n",
       "\n",
       "    .dataframe thead th {\n",
       "        text-align: right;\n",
       "    }\n",
       "</style>\n",
       "<table border=\"1\" class=\"dataframe\">\n",
       "  <thead>\n",
       "    <tr style=\"text-align: right;\">\n",
       "      <th></th>\n",
       "      <th>date</th>\n",
       "      <th>open</th>\n",
       "      <th>high</th>\n",
       "      <th>low</th>\n",
       "      <th>close</th>\n",
       "      <th>volume</th>\n",
       "      <th>name</th>\n",
       "    </tr>\n",
       "  </thead>\n",
       "  <tbody>\n",
       "  </tbody>\n",
       "</table>\n",
       "</div>"
      ],
      "text/plain": [
       "Empty DataFrame\n",
       "Columns: [date, open, high, low, close, volume, name]\n",
       "Index: []"
      ]
     },
     "execution_count": 27,
     "metadata": {},
     "output_type": "execute_result"
    }
   ],
   "source": [
    "df[df['name'] != 'SBUX']"
   ]
  },
  {
   "cell_type": "code",
   "execution_count": 28,
   "id": "74453f5d-7705-426e-918b-c2d87fb0688e",
   "metadata": {},
   "outputs": [
    {
     "data": {
      "text/plain": [
       "[0       False\n",
       " 1       False\n",
       " 2       False\n",
       " 3       False\n",
       " 4       False\n",
       "         ...  \n",
       " 1254    False\n",
       " 1255    False\n",
       " 1256    False\n",
       " 1257    False\n",
       " 1258    False\n",
       " Name: name, Length: 1259, dtype: bool]"
      ]
     },
     "execution_count": 28,
     "metadata": {},
     "output_type": "execute_result"
    }
   ],
   "source": [
    "[df['name'] != 'SBUX']"
   ]
  },
  {
   "cell_type": "code",
   "execution_count": 30,
   "id": "ea7280b3-f48d-42f0-a577-65399fe8b2dd",
   "metadata": {},
   "outputs": [
    {
     "data": {
      "text/plain": [
       "pandas.core.series.Series"
      ]
     },
     "execution_count": 30,
     "metadata": {},
     "output_type": "execute_result"
    }
   ],
   "source": [
    "type(df['name'] != 'SBUX')"
   ]
  },
  {
   "cell_type": "code",
   "execution_count": 31,
   "id": "7ce1af8a-4d62-40e5-bbcf-f9e4b9745790",
   "metadata": {},
   "outputs": [],
   "source": [
    "import numpy as np"
   ]
  },
  {
   "cell_type": "code",
   "execution_count": 32,
   "id": "9fa3c15b-2e1e-4138-8a8f-770e9a33dcb0",
   "metadata": {},
   "outputs": [
    {
     "data": {
      "text/plain": [
       "array([0, 1, 2, 3, 4, 5, 6, 7, 8, 9])"
      ]
     },
     "execution_count": 32,
     "metadata": {},
     "output_type": "execute_result"
    }
   ],
   "source": [
    "A = np.arange(10)\n",
    "A"
   ]
  },
  {
   "cell_type": "code",
   "execution_count": 33,
   "id": "fac087a6-425e-4254-9c59-7afbbedc983c",
   "metadata": {},
   "outputs": [
    {
     "data": {
      "text/plain": [
       "array([0, 2, 4, 6, 8])"
      ]
     },
     "execution_count": 33,
     "metadata": {},
     "output_type": "execute_result"
    }
   ],
   "source": [
    "A [A % 2 == 0]"
   ]
  },
  {
   "cell_type": "code",
   "execution_count": 34,
   "id": "cab78999-0fc2-4b36-b5f2-de8520b848b5",
   "metadata": {},
   "outputs": [
    {
     "data": {
      "text/plain": [
       "list"
      ]
     },
     "execution_count": 34,
     "metadata": {},
     "output_type": "execute_result"
    }
   ],
   "source": [
    "type([A % 2 == 0])"
   ]
  },
  {
   "cell_type": "code",
   "execution_count": 35,
   "id": "19e9b115-fb51-415d-ba28-a62ea2bb7d71",
   "metadata": {},
   "outputs": [
    {
     "data": {
      "text/plain": [
       "array([[27.92 , 28.185],\n",
       "       [28.26 , 28.07 ],\n",
       "       [28.   , 28.13 ],\n",
       "       ...,\n",
       "       [55.53 , 54.69 ],\n",
       "       [53.685, 55.61 ],\n",
       "       [55.08 , 54.46 ]])"
      ]
     },
     "execution_count": 35,
     "metadata": {},
     "output_type": "execute_result"
    }
   ],
   "source": [
    "A = df[['open', 'close']].values\n",
    "A"
   ]
  },
  {
   "cell_type": "code",
   "execution_count": 36,
   "id": "42e71d63-a99a-4db5-9988-69a486212f74",
   "metadata": {},
   "outputs": [
    {
     "data": {
      "text/plain": [
       "numpy.ndarray"
      ]
     },
     "execution_count": 36,
     "metadata": {},
     "output_type": "execute_result"
    }
   ],
   "source": [
    "type(A)"
   ]
  },
  {
   "cell_type": "markdown",
   "id": "7c62d5c8-e7af-4396-adf8-4d600c9fb7d9",
   "metadata": {},
   "source": [
    "# The Apply() Function"
   ]
  },
  {
   "cell_type": "code",
   "execution_count": null,
   "id": "ff57e151-32fb-4997-98b4-1b4a9055a83e",
   "metadata": {},
   "outputs": [],
   "source": []
  },
  {
   "cell_type": "code",
   "execution_count": null,
   "id": "5b22b440-68ae-4698-a113-e58f57ab75bb",
   "metadata": {},
   "outputs": [],
   "source": []
  },
  {
   "cell_type": "code",
   "execution_count": null,
   "id": "b1d568f7-f226-48b6-9747-55ddc50864d0",
   "metadata": {},
   "outputs": [],
   "source": []
  },
  {
   "cell_type": "code",
   "execution_count": null,
   "id": "19072f7b-0551-4a4e-8abc-03b3eec3b278",
   "metadata": {},
   "outputs": [],
   "source": []
  },
  {
   "cell_type": "code",
   "execution_count": null,
   "id": "69bca482-f398-4b64-a6f5-f176a6304931",
   "metadata": {},
   "outputs": [],
   "source": []
  }
 ],
 "metadata": {
  "kernelspec": {
   "display_name": "Python 3 (ipykernel)",
   "language": "python",
   "name": "python3"
  },
  "language_info": {
   "codemirror_mode": {
    "name": "ipython",
    "version": 3
   },
   "file_extension": ".py",
   "mimetype": "text/x-python",
   "name": "python",
   "nbconvert_exporter": "python",
   "pygments_lexer": "ipython3",
   "version": "3.11.7"
  }
 },
 "nbformat": 4,
 "nbformat_minor": 5
}
